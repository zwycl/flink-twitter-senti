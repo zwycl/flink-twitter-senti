{
  "nbformat": 4,
  "nbformat_minor": 0,
  "metadata": {
    "colab": {
      "name": "valence_regression_distilbert.ipynb",
      "provenance": [],
      "toc_visible": true,
      "authorship_tag": "ABX9TyNNHm6xuiPUDjddtL4hEuVz",
      "include_colab_link": true
    },
    "kernelspec": {
      "name": "python3",
      "display_name": "Python 3"
    },
    "accelerator": "TPU"
  },
  "cells": [
    {
      "cell_type": "markdown",
      "metadata": {
        "id": "view-in-github",
        "colab_type": "text"
      },
      "source": [
        "<a href=\"https://colab.research.google.com/github/zwycl/flink-twitter-senti/blob/master/tf_models/valence_regression_distilbert.ipynb\" target=\"_parent\"><img src=\"https://colab.research.google.com/assets/colab-badge.svg\" alt=\"Open In Colab\"/></a>"
      ]
    },
    {
      "cell_type": "code",
      "metadata": {
        "id": "c02d6QaIIR3Y",
        "colab_type": "code",
        "colab": {}
      },
      "source": [
        "!pip install transformers"
      ],
      "execution_count": 0,
      "outputs": []
    },
    {
      "cell_type": "code",
      "metadata": {
        "id": "mhRqxW1bCbL4",
        "colab_type": "code",
        "colab": {}
      },
      "source": [
        "import numpy as np\n",
        "import tensorflow as tf\n",
        "import pandas as pd\n",
        "import re\n",
        "import os\n",
        "from google.colab import drive\n",
        "from tensorflow.python.lib.io.tf_record import TFRecordWriter\n",
        "from transformers import (TFDistilBertForSequenceClassification, \n",
        "                          TFDistilBertModel,\n",
        "                          DistilBertTokenizerFast,\n",
        "                          DistilBertConfig)\n",
        "from tensorflow.keras.preprocessing.sequence import pad_sequences\n",
        "from tqdm.notebook import tqdm\n",
        "\n",
        "drive.mount('/content/drive/')\n",
        "\n",
        "train_dataset = pd.read_csv('drive/My Drive/dataset/semeval-english/V-reg/2018-Valence-reg-En-train.txt', delimiter='\\t')\n",
        "validation_dataset = pd.read_csv('drive/My Drive/dataset/semeval-english/V-reg/2018-Valence-reg-En-dev.txt', delimiter='\\t')\n",
        "test_dataset = pd.read_csv('drive/My Drive/dataset/semeval-english/V-reg/2018-Valence-reg-En-test-gold.txt', delimiter='\\t')\n",
        "\n",
        "def preprocess(df):\n",
        "   df['Tweet'] = df['Tweet'].apply(lambda x : re.sub(\"@[A-Za-z0-9]+\",\"\", x).lower())\n",
        "   df['ID'] = df['ID'].apply(lambda x : x.split('-')[2])\n",
        "   df['ID'] = pd.to_numeric(df['ID'])\n",
        "   return df[['ID', 'Tweet', 'Intensity Score']]\n",
        "\n",
        "train_dataset = preprocess(train_dataset)\n",
        "validation_dataset = preprocess(validation_dataset)\n",
        "test_dataset = preprocess(test_dataset)\n",
        "\n",
        "def create_tf_example_continous_label(features,label):\n",
        "  tf_example = tf.train.Example(features = tf.train.Features(feature = {\n",
        "      'idx': tf.train.Feature(int64_list=tf.train.Int64List(value=[features[0]])),\n",
        "      'tweet': tf.train.Feature(bytes_list=tf.train.BytesList(value=[features[1].encode('utf-8')])),\n",
        "      'label': tf.train.Feature(float_list=tf.train.FloatList(value=[label]))\n",
        "      }))\n",
        "  return tf_example.SerializeToString()\n",
        "\n",
        "def convert_df_to_tfrecord(df, file_name):\n",
        "  writer = TFRecordWriter(file_name)\n",
        "  for idx,row in enumerate(df.iterrows()):\n",
        "    features, label = row[1][:-1], row[1][-1]\n",
        "    example =  create_tf_example_continous_label(features, label)\n",
        "    writer.write(example)\n",
        "  writer.close()\n",
        "\n",
        "#os.mkdir('drive/My Drive/dataset/records')\n",
        "convert_df_to_tfrecord(train_dataset, \"drive/My Drive/dataset/records/valence_train.tfrecord\")\n",
        "convert_df_to_tfrecord(validation_dataset, \"drive/My Drive/dataset/records/valence_validate.tfrecord\")\n",
        "convert_df_to_tfrecord(test_dataset, \"drive/My Drive/dataset/records/valence_test.tfrecord\")"
      ],
      "execution_count": 0,
      "outputs": []
    },
    {
      "cell_type": "code",
      "metadata": {
        "id": "MJFiJSSjiK2h",
        "colab_type": "code",
        "colab": {}
      },
      "source": [
        "model = TFDistilBertForSequenceClassification.from_pretrained(\"distilbert-base-uncased\", num_labels=1)\n",
        "tokenizer = DistilBertTokenizerFast.from_pretrained(\"distilbert-base-uncased\")\n",
        "\n",
        "def tokenize_sentences(sentences, tokenizer, max_seq_len = 128):\n",
        "  tokenized_sentences = []\n",
        "\n",
        "  for sentence in tqdm(sentences):\n",
        "    tokenized_sentence = tokenizer.encode(\n",
        "        sentence,\n",
        "        add_special_tokens = True,\n",
        "        max_length = max_seq_len\n",
        "        )\n",
        "    tokenized_sentences.append(tokenized_sentence)\n",
        "  return tokenized_sentences\n",
        "\n",
        "def create_attention_masks(sentences):\n",
        "  attention_masks = []\n",
        "\n",
        "  for sentence in sentences:\n",
        "    att_mask = [int(token_id > 0) for token_id in sentence]\n",
        "    attention_masks.append(att_mask)\n",
        "  return np.asarray(attention_masks)"
      ],
      "execution_count": 0,
      "outputs": []
    },
    {
      "cell_type": "code",
      "metadata": {
        "id": "uP5tU5AYtLwg",
        "colab_type": "code",
        "colab": {}
      },
      "source": [
        "train_ids  = tokenize_sentences(train_dataset['Tweet'], tokenizer)\n",
        "train_ids = pad_sequences(train_ids, maxlen=30, dtype=\"long\", value=0, truncating=\"post\", padding=\"post\")\n",
        "train_masks = create_attention_masks(train_ids)\n",
        "\n",
        "validation_ids  = tokenize_sentences(validation_dataset['Tweet'], tokenizer)\n",
        "validation_ids = pad_sequences(validation_ids, maxlen=30, dtype=\"long\", value=0, truncating=\"post\", padding=\"post\")\n",
        "validation_masks = create_attention_masks(validation_ids)\n",
        "\n",
        "test_ids  = tokenize_sentences(test_dataset['Tweet'], tokenizer)\n",
        "test_ids = pad_sequences(test_ids, maxlen=30, dtype=\"long\", value=0, truncating=\"post\", padding=\"post\")\n",
        "test_masks = create_attention_masks(test_ids)\n",
        "\n",
        "def create_dataset(ids, labels):\n",
        "  def gen():\n",
        "    for i in range(len(ids)):\n",
        "      yield (ids[i], labels[i])\n",
        "  return tf.data.Dataset.from_generator(gen,\n",
        "                                        (tf.int32, tf.float32),\n",
        "                                        (tf.TensorShape([30]), ()))\n",
        "\n",
        "train_dataset_tf = create_dataset(train_ids, train_dataset['Intensity Score'])\n",
        "validation_dataset_tf = create_dataset(validation_ids,  validation_dataset['Intensity Score'])\n",
        "test_dataset_tf = create_dataset(test_ids,  test_dataset['Intensity Score'])"
      ],
      "execution_count": 0,
      "outputs": []
    },
    {
      "cell_type": "code",
      "metadata": {
        "id": "nJc8T_jTqmpu",
        "colab_type": "code",
        "colab": {}
      },
      "source": [
        "optimizer = tf.keras.optimizers.Adam(learning_rate=3e-5, epsilon=1e-08, clipnorm=1.0)\n",
        "loss = tf.keras.losses.MeanSquaredError()\n",
        "metric = tf.keras.metrics.MeanSquaredError()\n",
        "model.compile(optimizer=optimizer, loss=loss, metrics=[metrics])\n",
        "\n",
        "distilbert_history = model.fit(\n",
        " train_dataset_tf, \n",
        " epochs=5, \n",
        " steps_per_epoch=120, \n",
        " validation_data=validation_dataset_tf, \n",
        " validation_steps=7\n",
        ")\n"
      ],
      "execution_count": 0,
      "outputs": []
    },
    {
      "cell_type": "code",
      "metadata": {
        "id": "FHO2LDDryXrr",
        "colab_type": "code",
        "outputId": "a97a93a2-c351-44c8-8dd1-0b47ad23f30e",
        "colab": {
          "base_uri": "https://localhost:8080/",
          "height": 54
        }
      },
      "source": [
        "output = model.evaluate(test_dataset_tf)\n",
        "\n",
        "#os.mkdir('drive/My Drive/saved_models/')\n",
        "model.save('drive/My Drive/saved_models/valence_regression') "
      ],
      "execution_count": 0,
      "outputs": [
        {
          "output_type": "stream",
          "text": [
            "tf.Tensor(0.141, shape=(), dtype=float32)\n",
            "tf.Tensor(0.317, shape=(), dtype=float32)\n"
          ],
          "name": "stdout"
        }
      ]
    }
  ]
}