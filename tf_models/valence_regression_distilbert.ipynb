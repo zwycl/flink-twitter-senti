{
  "nbformat": 4,
  "nbformat_minor": 0,
  "metadata": {
    "colab": {
      "name": "valence_regression_distilbert.ipynb",
      "provenance": [],
      "authorship_tag": "ABX9TyOXdGqvqwwRjjMnCMCvSTZl",
      "include_colab_link": true
    },
    "kernelspec": {
      "name": "python3",
      "display_name": "Python 3"
    },
    "accelerator": "TPU"
  },
  "cells": [
    {
      "cell_type": "markdown",
      "metadata": {
        "id": "view-in-github",
        "colab_type": "text"
      },
      "source": [
        "<a href=\"https://colab.research.google.com/github/zwycl/flink-twitter-senti/blob/master/tf_models/valence_regression_distilbert.ipynb\" target=\"_parent\"><img src=\"https://colab.research.google.com/assets/colab-badge.svg\" alt=\"Open In Colab\"/></a>"
      ]
    },
    {
      "cell_type": "code",
      "metadata": {
        "id": "c02d6QaIIR3Y",
        "colab_type": "code",
        "colab": {}
      },
      "source": [
        "!pip install transformers"
      ],
      "execution_count": 0,
      "outputs": []
    },
    {
      "cell_type": "code",
      "metadata": {
        "id": "mhRqxW1bCbL4",
        "colab_type": "code",
        "colab": {}
      },
      "source": [
        "import tensorflow as tf\n",
        "import pandas as pd\n",
        "import re\n",
        "import os\n",
        "from google.colab import drive\n",
        "from tensorflow.python.lib.io.tf_record import TFRecordWriter\n",
        "from transformers import (TFDistilBertForSequenceClassification, \n",
        "                          TFDistilBertModel,\n",
        "                          DistilBertTokenizerFast)\n",
        "from tensorflow.keras.preprocessing.sequence import pad_sequences\n",
        "from tqdm.notebook import tqdm\n",
        "\n",
        "drive.mount('/content/drive/')\n",
        "\n",
        "train_dataset = pd.read_csv('drive/My Drive/dataset/semeval-english/V-reg/2018-Valence-reg-En-train.txt', delimiter='\\t')\n",
        "validation_dataset = pd.read_csv('drive/My Drive/dataset/semeval-english/V-reg/2018-Valence-reg-En-dev.txt', delimiter='\\t')\n",
        "test_dataset = pd.read_csv('drive/My Drive/dataset/semeval-english/V-reg/2018-Valence-reg-En-test-gold.txt', delimiter='\\t')\n",
        "\n",
        "def preprocess(df):\n",
        "   df['Tweet'] = df['Tweet'].apply(lambda x : re.sub(\"@[A-Za-z0-9]+\",\"\", x).lower())\n",
        "   df['ID'] = df['ID'].apply(lambda x : x.split('-')[2])\n",
        "   df['ID'] = pd.to_numeric(df['ID'])\n",
        "   return df[['ID', 'Tweet', 'Intensity Score']]\n",
        "\n",
        "train_dataset = preprocess(train_dataset)\n",
        "validation_dataset = preprocess(validation_dataset)\n",
        "test_dataset = preprocess(test_dataset)\n",
        "\n",
        "def create_tf_example_continous_label(features,label):\n",
        "  tf_example = tf.train.Example(features = tf.train.Features(feature = {\n",
        "      'idx': tf.train.Feature(int64_list=tf.train.Int64List(value=[features[0]])),\n",
        "      'tweet': tf.train.Feature(bytes_list=tf.train.BytesList(value=[features[1].encode('utf-8')])),\n",
        "      'label': tf.train.Feature(float_list=tf.train.FloatList(value=[label]))\n",
        "      }))\n",
        "  return tf_example.SerializeToString()\n",
        "\n",
        "def convert_df_to_tfrecord(df, file_name):\n",
        "  writer = TFRecordWriter(file_name)\n",
        "  for idx,row in enumerate(df.iterrows()):\n",
        "    features, label = row[1][:-1], row[1][-1]\n",
        "    example =  create_tf_example_continous_label(features, label)\n",
        "    writer.write(example)\n",
        "  writer.close()\n",
        "\n",
        "#os.mkdir('drive/My Drive/dataset/records')\n",
        "convert_df_to_tfrecord(train_dataset, \"drive/My Drive/dataset/records/valence_train.tfrecord\")\n",
        "convert_df_to_tfrecord(validation_dataset, \"drive/My Drive/dataset/records/valence_validate.tfrecord\")\n",
        "convert_df_to_tfrecord(test_dataset, \"drive/My Drive/dataset/records/valence_test.tfrecord\")"
      ],
      "execution_count": 0,
      "outputs": []
    },
    {
      "cell_type": "code",
      "metadata": {
        "id": "MJFiJSSjiK2h",
        "colab_type": "code",
        "colab": {}
      },
      "source": [
        "tr_ds = tf.data.TFRecordDataset(\"drive/My Drive/dataset/records/valence_train.tfrecord\")\n",
        "val_ds = tf.data.TFRecordDataset(\"drive/My Drive/dataset/records/valence_validate.tfrecord\")\n",
        "test_ds = tf.data.TFRecordDataset(\"drive/My Drive/dataset/records/valence_test.tfrecord\")\n",
        "\n",
        "feature_spec = {\n",
        "    'idx': tf.io.FixedLenFeature([], tf.int64),\n",
        "    'tweet': tf.io.FixedLenFeature([], tf.string),\n",
        "    'label': tf.io.FixedLenFeature([], tf.float32)\n",
        "}\n",
        "def parse_example(example_proto):\n",
        "  # Parse the input tf.Example proto using the dictionary above.\n",
        "    return tf.io.parse_single_example(example_proto, feature_spec)\n",
        "\n",
        "# convert the encoded string tensor into the separate tensors that will feed into the model\n",
        "tr_parse_ds = tr_ds.map(parse_example)\n",
        "val_parse_ds = val_ds.map(parse_example)\n",
        "test_parse_ds =  test_ds.map(parse_example)\n",
        "\n",
        "print(tr_parse_ds)\n",
        "\n",
        "model = TFDistilBertForSequenceClassification.from_pretrained(\"distilbert-base-uncased\")\n",
        "tokenizer = DistilBertTokenizerFast.from_pretrained(\"distilbert-base-uncased\")\n",
        "\n",
        "def tokenize_sentences(sentences, tokenizer, max_seq_len = 128):\n",
        "  tokenized_sentences = []\n",
        "\n",
        "  for sentence in tqdm(sentences):\n",
        "    tokenized_sentence = tokenizer.encode(\n",
        "        sentence,\n",
        "        add_special_tokens = True,\n",
        "        max_length = max_seq_len\n",
        "        )\n",
        "    tokenized_sentences.append(tokenized_sentence)\n",
        "  return tokenized_sentences\n",
        "\n",
        "def create_attention_masks(sentences):\n",
        "  attention_masks = []\n",
        "\n",
        "  for sentence in sentences:\n",
        "    att_mask = [int(token_id > 0) for token_id in sentence]\n",
        "    attention_masks.append(att_mask)\n",
        "  return np.asarray(attention_masks)\n",
        "\n",
        "train_ids  = tokenize_sentences(train_dataset['Tweet'], tokenizer)\n",
        "train_ids = pad_sequences(input_ids, maxlen=300, dtype=\"long\", value=0, truncating=\"post\", padding=\"post\")\n",
        "train_masks = create_attention_masks(input_ids)"
      ],
      "execution_count": 0,
      "outputs": []
    },
    {
      "cell_type": "code",
      "metadata": {
        "id": "nJc8T_jTqmpu",
        "colab_type": "code",
        "colab": {}
      },
      "source": [
        "optimizer = tf.keras.optimizers.Adam(learning_rate=3e-5, epsilon=1e-08, clipnorm=1.0)\n",
        "loss = tf.keras.losses.MeanSquaredError()\n",
        "metric = tf.keras.metrics.MeanSquaredError()\n",
        "model.compile(optimizer=optimizer, loss=loss, metrics=[metric])\n",
        "\n",
        "distilbert_history = model.fit(\n",
        " tr_parse_ds, \n",
        " epochs=4, \n",
        " steps_per_epoch=115, \n",
        " validation_data=val_parse_ds, \n",
        " validation_steps=7\n",
        ")\n"
      ],
      "execution_count": 0,
      "outputs": []
    }
  ]
}